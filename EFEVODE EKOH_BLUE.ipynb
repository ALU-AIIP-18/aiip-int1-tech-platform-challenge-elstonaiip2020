{
 "cells": [
  {
   "cell_type": "markdown",
   "metadata": {},
   "source": [
    "## CODE TO PRINT MAXIMUM FROM A LIST"
   ]
  },
  {
   "cell_type": "code",
   "execution_count": 11,
   "metadata": {},
   "outputs": [
    {
     "name": "stdout",
     "output_type": "stream",
     "text": [
      "74\n"
     ]
    }
   ],
   "source": [
    "# Program Returns Largest Number\n",
    "#  Using s for loop we itterate over the list\n",
    "number=[9, 41, 12, 3, 74, 15]\n",
    "temp=0                           # temp is used to hold the temporary value while itterating overt the list\n",
    "for n in range(len(number)):\n",
    "    if temp<=number[n]:\n",
    "               temp=number[n]\n",
    "maximum=temp\n",
    "print(maximum)\n",
    "    "
   ]
  },
  {
   "cell_type": "markdown",
   "metadata": {},
   "source": [
    "## CODE TO PRINT MAXIMUM FROM A LIST(NUMPY)"
   ]
  },
  {
   "cell_type": "code",
   "execution_count": 8,
   "metadata": {},
   "outputs": [
    {
     "name": "stdout",
     "output_type": "stream",
     "text": [
      "74\n"
     ]
    }
   ],
   "source": [
    "# Program Returns Largest Number\n",
    "#  Method max in numpy is employed\n",
    "import numpy as np  \n",
    "number=[9, 41, 12, 3, 74, 15]\n",
    "maximum=np.max(number)\n",
    "print(maximum)"
   ]
  },
  {
   "cell_type": "code",
   "execution_count": null,
   "metadata": {},
   "outputs": [],
   "source": []
  }
 ],
 "metadata": {
  "kernelspec": {
   "display_name": "Python 3",
   "language": "python",
   "name": "python3"
  },
  "language_info": {
   "codemirror_mode": {
    "name": "ipython",
    "version": 3
   },
   "file_extension": ".py",
   "mimetype": "text/x-python",
   "name": "python",
   "nbconvert_exporter": "python",
   "pygments_lexer": "ipython3",
   "version": "3.7.4"
  }
 },
 "nbformat": 4,
 "nbformat_minor": 2
}
